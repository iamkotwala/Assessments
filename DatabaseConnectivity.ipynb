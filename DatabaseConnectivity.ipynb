{
 "cells": [
  {
   "cell_type": "markdown",
   "metadata": {},
   "source": [
    "# Python Database Connectivity"
   ]
  },
  {
   "cell_type": "code",
   "execution_count": 1,
   "metadata": {},
   "outputs": [
    {
     "name": "stdout",
     "output_type": "stream",
     "text": [
      "<mysql.connector.connection.MySQLConnection object at 0x000001D259029288>\n"
     ]
    }
   ],
   "source": [
    "import mysql.connector  \n",
    "  \n",
    "#Create the connection object   \n",
    "myconn = mysql.connector.connect(host = \"localhost\", user = \"root\",passwd = \"\")  \n",
    "  \n",
    "#printing the connection object   \n",
    "print(myconn) "
   ]
  },
  {
   "cell_type": "markdown",
   "metadata": {},
   "source": [
    "## Show Databases"
   ]
  },
  {
   "cell_type": "code",
   "execution_count": 6,
   "metadata": {},
   "outputs": [
    {
     "name": "stdout",
     "output_type": "stream",
     "text": [
      "('information_schema',)\n",
      "('attendance',)\n",
      "('cerberus',)\n",
      "('mysql',)\n",
      "('performance_schema',)\n",
      "('sys',)\n",
      "('trip',)\n"
     ]
    }
   ],
   "source": [
    "import mysql.connector  \n",
    "  \n",
    "#Create the connection object   \n",
    "myconn = mysql.connector.connect(host = \"localhost\", user = \"root\",passwd = \"\")  \n",
    "  \n",
    "#creating the cursor object  \n",
    "cur = myconn.cursor()  \n",
    "  \n",
    "try:  \n",
    "    dbs = cur.execute(\"show databases\")  \n",
    "except:  \n",
    "    myconn.rollback()  \n",
    "for x in cur:  \n",
    "    print(x)  \n",
    "myconn.close()  "
   ]
  },
  {
   "cell_type": "markdown",
   "metadata": {},
   "source": [
    "## Create Database"
   ]
  },
  {
   "cell_type": "code",
   "execution_count": 9,
   "metadata": {},
   "outputs": [
    {
     "name": "stdout",
     "output_type": "stream",
     "text": [
      "('information_schema',)\n",
      "('attendance',)\n",
      "('cerberus',)\n",
      "('mysql',)\n",
      "('performance_schema',)\n",
      "('pythondb2',)\n",
      "('sys',)\n",
      "('trip',)\n"
     ]
    }
   ],
   "source": [
    "import mysql.connector  \n",
    "  \n",
    "#Create the connection object   \n",
    "myconn = mysql.connector.connect(host = \"localhost\", user = \"root\",passwd = \"\")  \n",
    "  \n",
    "#creating the cursor object  \n",
    "cur = myconn.cursor()  \n",
    "  \n",
    "try:  \n",
    "    #creating a new database  \n",
    "    cur.execute(\"create database PythonDB2\")  \n",
    "  \n",
    "    #getting the list of all the databases which will now include the new database PythonDB  \n",
    "    dbs = cur.execute(\"show databases\")  \n",
    "      \n",
    "except:  \n",
    "    myconn.rollback()  \n",
    "\n",
    "for x in cur:\n",
    "    print(x)  \n",
    "          \n",
    "myconn.close()  "
   ]
  },
  {
   "cell_type": "markdown",
   "metadata": {},
   "source": [
    "## Create Table"
   ]
  },
  {
   "cell_type": "code",
   "execution_count": 11,
   "metadata": {},
   "outputs": [],
   "source": [
    "import mysql.connector  \n",
    "  \n",
    "#Create the connection object   \n",
    "myconn = mysql.connector.connect(host = \"localhost\", user = \"root\",passwd = \"\",database = \"Pythondb2\")  \n",
    "  \n",
    "#creating the cursor object  \n",
    "cur = myconn.cursor()  \n",
    "  \n",
    "try:  \n",
    "    #Creating a table with name Employee having four columns i.e., name, id, salary, and department id  \n",
    "    dbs = cur.execute(\"create table Employee(name varchar(20) not null, id int(20) not null primary key, salary float not null, Dept_id int not null)\")  \n",
    "except:\n",
    "    myconn.rollback()  \n",
    "\n",
    "myconn.close()"
   ]
  },
  {
   "cell_type": "markdown",
   "metadata": {},
   "source": [
    "## Insert Rows"
   ]
  },
  {
   "cell_type": "code",
   "execution_count": 20,
   "metadata": {},
   "outputs": [
    {
     "name": "stdout",
     "output_type": "stream",
     "text": [
      "1 record inserted!\n"
     ]
    }
   ],
   "source": [
    "import mysql.connector\n",
    "#Create the connection object\n",
    "myconn = mysql.connector.connect(host = \"localhost\", user = \"root\",passwd = \"\",database = \"Pythondb2\")\n",
    "\n",
    "#creating the cursor object  \n",
    "cur = myconn.cursor()\n",
    "sql = \"insert into Employee(name, id, salary, Dept_id) values (%s, %s, %s, %s)\"\n",
    "  \n",
    "#The row values are provided in the form of tuple\n",
    "val = (\"Vraj\", 1, 60000.00, 100)\n",
    "  \n",
    "try:\n",
    "    #inserting the values into the table\n",
    "    cur.execute(sql,val)\n",
    "\n",
    "    #commit the transaction \n",
    "    myconn.commit()\n",
    "    print(cur.rowcount,\"record inserted!\")\n",
    "      \n",
    "except:\n",
    "    myconn.rollback()\n",
    "    print(\"failed\")\n",
    "\n",
    "\n",
    "myconn.close()"
   ]
  },
  {
   "cell_type": "markdown",
   "metadata": {},
   "source": [
    "## Select Query"
   ]
  },
  {
   "cell_type": "code",
   "execution_count": 21,
   "metadata": {},
   "outputs": [
    {
     "name": "stdout",
     "output_type": "stream",
     "text": [
      "('Vraj', 1, 60000.0, 100)\n"
     ]
    }
   ],
   "source": [
    "import mysql.connector  \n",
    "  \n",
    "#Create the connection object   \n",
    "myconn = mysql.connector.connect(host = \"localhost\", user = \"root\",passwd = \"\",database = \"Pythondb2\")  \n",
    "  \n",
    "#creating the cursor object  \n",
    "cur = myconn.cursor()  \n",
    "  \n",
    "try:  \n",
    "    #Reading the Employee data      \n",
    "    cur.execute(\"select * from Employee\")  \n",
    "  \n",
    "    #fetching the rows from the cursor object  \n",
    "    result = cur.fetchall()  \n",
    "    #printing the result  \n",
    "      \n",
    "    for x in result:  \n",
    "        print(x);  \n",
    "except:  \n",
    "    myconn.rollback()\n",
    "    \n",
    "myconn.close()  "
   ]
  },
  {
   "cell_type": "code",
   "execution_count": null,
   "metadata": {},
   "outputs": [],
   "source": []
  }
 ],
 "metadata": {
  "kernelspec": {
   "display_name": "Python 3",
   "language": "python",
   "name": "python3"
  },
  "language_info": {
   "codemirror_mode": {
    "name": "ipython",
    "version": 3
   },
   "file_extension": ".py",
   "mimetype": "text/x-python",
   "name": "python",
   "nbconvert_exporter": "python",
   "pygments_lexer": "ipython3",
   "version": "3.7.6"
  }
 },
 "nbformat": 4,
 "nbformat_minor": 4
}
