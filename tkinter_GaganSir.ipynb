{
 "cells": [
  {
   "cell_type": "code",
   "execution_count": 1,
   "metadata": {},
   "outputs": [],
   "source": [
    "import tkinter as tk\n",
    "r=tk.Tk()\n",
    "r.title(\"tkinter\")\n",
    "button=tk.Button(r,text='stop',width='25',command=r.destroy)\n",
    "button.pack()\n",
    "r.mainloop()"
   ]
  },
  {
   "cell_type": "code",
   "execution_count": 2,
   "metadata": {},
   "outputs": [],
   "source": [
    "import tkinter # note that module name has changed from Tkinter in Python 2 to tkinter in Python 3\n",
    "top = tkinter.Tk()\n",
    "# Code to add widgets will go here...\n",
    "top.mainloop()"
   ]
  },
  {
   "cell_type": "code",
   "execution_count": 9,
   "metadata": {},
   "outputs": [],
   "source": [
    "#label control\n",
    "\n",
    "import tkinter as tk\n",
    "\n",
    "# if you are still working under a Python 2 version, \n",
    "# comment out the previous line and uncomment the following line\n",
    "# import Tkinter as tk\n",
    "\n",
    "root = tk.Tk()\n",
    "a=StringVar()\n",
    "w = tk.Label(root,textvariable=a)\n",
    "w1= tk.Label(root,textvariable=a)\n",
    "a.set(\"hello\")\n",
    "a.set(\"hi\")\n",
    "w.pack()\n",
    "w1.pack()\n",
    "\n",
    "root.mainloop()\n"
   ]
  },
  {
   "cell_type": "code",
   "execution_count": 9,
   "metadata": {},
   "outputs": [],
   "source": [
    "import tkinter as tk\n",
    "root = tk.Tk()\n",
    "tk.Label(root, text=\"Red Text in Times Font\", fg = \"red\", font = \"Times\").pack()\n",
    "tk.Label(root, \n",
    "\t\t text=\"Green Text in Helvetica Font\",\n",
    "\t\t fg = \"light green\",\n",
    "\t\t bg = \"dark green\",\n",
    "\t\t font = \"Helvetica 16 bold italic\").pack()\n",
    "tk.Label(root, \n",
    "\t\t text=\"Blue Text in Verdana bold\",\n",
    "\t\t fg = \"blue\",\n",
    "\t\t bg = \"yellow\",\n",
    "\t\t font = \"Verdana 10 bold\")\n",
    "\n",
    "root = tk.Tk()\n",
    "tk.Label(root, \n",
    "\t\t text=\"Red Text in Times Font\",\n",
    "\t\t fg = \"red\",\n",
    "\t\t font = \"Times\").pack()\n",
    "tk.Label(root, \n",
    "\t\t text=\"Green Text in Helvetica Font\",\n",
    "\t\t fg = \"light green\",\n",
    "\t\t bg = \"dark green\",\n",
    "\t\t font = \"Helvetica 16 bold italic\").pack()\n",
    "tk.Label(root, text=\"Blue Text in Verdana bold\",fg = \"blue\",bg = \"yellow\",font = \"Verdana 10 bold\").pack()\n",
    "\n",
    "root.mainloop()"
   ]
  },
  {
   "cell_type": "code",
   "execution_count": 11,
   "metadata": {},
   "outputs": [],
   "source": [
    "# Button with message box\n",
    "from tkinter import *\n",
    "\n",
    "from tkinter import messagebox\n",
    "\n",
    "top = Tk()\n",
    "top.geometry(\"100x100\")\n",
    "def helloCallBack():\n",
    "    msg = messagebox.showinfo( \"Hello Python\", \"Hello World\")\n",
    "\n",
    "B = Button(top, text = \"Hello\", command = helloCallBack)\n",
    "B.place(x = 150,y = 150)\n",
    "top.mainloop()"
   ]
  },
  {
   "cell_type": "code",
   "execution_count": 20,
   "metadata": {},
   "outputs": [
    {
     "name": "stdout",
     "output_type": "stream",
     "text": [
      "hello world\n",
      "hello1\n"
     ]
    }
   ],
   "source": [
    "import tkinter as tk\n",
    "def hello():\n",
    "    print(\"hello world\")\n",
    "def hello1():\n",
    "    print(\"hello1\")\n",
    "root=tk.Tk()\n",
    "root.geometry(\"200x100\")\n",
    "button=tk.Button(root,text=\"yes\",fg=\"red\",command=hello).pack()\n",
    "button1=tk.Button(root,text=\"no\",fg=\"blue\",command=hello1).pack()\n",
    "root.mainloop()"
   ]
  },
  {
   "cell_type": "code",
   "execution_count": 11,
   "metadata": {},
   "outputs": [],
   "source": [
    "import tkinter as tk\n",
    "r=tk.Tk()\n",
    "r.title(\"tkinterrr\")\n",
    "button=tk.Button(r,text='stop',width='20',command=r.destroy)\n",
    "button=tk.Button(r,text='start',width='30',command=r.destroy)\n",
    "button.pack()\n",
    "r.mainloop()"
   ]
  },
  {
   "cell_type": "code",
   "execution_count": 12,
   "metadata": {},
   "outputs": [],
   "source": [
    "from tkinter import *\n",
    "master=Tk()\n",
    "w=Canvas(master,height='30',width='50')\n",
    "w.pack()\n",
    "canvas_height=20\n",
    "canvas_width=200\n",
    "y=int(canvas_height/2)\n",
    "w.create_line(0,y,canvas_width,y)\n",
    "mainloop()"
   ]
  },
  {
   "cell_type": "code",
   "execution_count": 13,
   "metadata": {},
   "outputs": [],
   "source": [
    "from tkinter import *\n",
    "master = Tk() \n",
    "var1 = IntVar() \n",
    "Checkbutton(master, text='male', variable=var1).grid(row=0, sticky=W) \n",
    "var2 = IntVar() \n",
    "Checkbutton(master, text='female', variable=var2).grid(row=1, sticky=W) \n",
    "mainloop()"
   ]
  },
  {
   "cell_type": "code",
   "execution_count": 34,
   "metadata": {},
   "outputs": [],
   "source": [
    "# Canvas Example \n",
    "\n",
    "from tkinter import *\n",
    "\n",
    "from tkinter import messagebox\n",
    "\n",
    "top = Tk()\n",
    "\n",
    "C = Canvas(top, bg = \"blue\", height = 250, width = 300)\n",
    "C2 = Canvas(top, bg = \"blue\", height = 350, width = 500)\n",
    "coord = 10, 50, 240, 210\n",
    "arc = C.create_arc(coord, start = 0, extent = 150, fill = \"red\")\n",
    "line = C.create_line(10,50,100,100,fill = 'white')\n",
    "C.place(x=50, y=50)\n",
    "C2.place(x=200, y=200)\n",
    "\n",
    "top.mainloop()"
   ]
  },
  {
   "cell_type": "code",
   "execution_count": null,
   "metadata": {},
   "outputs": [],
   "source": [
    "#Showing  image in canvas \n",
    "\n"
   ]
  },
  {
   "cell_type": "code",
   "execution_count": 1,
   "metadata": {},
   "outputs": [],
   "source": [
    "#Message Box\n",
    "\n",
    "import tkinter as tk\n",
    "master = tk.Tk()\n",
    "whatever_you_do = \"Whatever you do will be insignificant, but it is very important that you do it.\\n(Mahatma Gandhi)\"\n",
    "msg = tk.Message(master, text = whatever_you_do)\n",
    "msg.config(bg='lightgreen', font=('times', 24, 'italic'))\n",
    "msg.pack()\n",
    "tk.mainloop()"
   ]
  },
  {
   "cell_type": "code",
   "execution_count": 1,
   "metadata": {},
   "outputs": [
    {
     "name": "stdout",
     "output_type": "stream",
     "text": [
      "Tkinter is easy to use!\n",
      "Tkinter is easy to use!\n",
      "Tkinter is easy to use!\n",
      "Tkinter is easy to use!\n"
     ]
    }
   ],
   "source": [
    "import tkinter as tk\n",
    "    \n",
    "\n",
    "def write_slogan():\n",
    "    print(\"Tkinter is easy to use!\")\n",
    "\n",
    "root = tk.Tk()\n",
    "frame = tk.Frame(root)\n",
    "frame.pack()\n",
    "\n",
    "button = tk.Button(frame, \n",
    "                   text=\"QUIT\",fg=\"red\",command=root.destroy)\n",
    "button.pack(side=tk.LEFT)\n",
    "slogan = tk.Button(frame,anchor=\"nw\",\n",
    "                   text=\"Hello\",\n",
    "                   command=write_slogan)\n",
    "slogan.pack( )\n",
    "\n",
    "root.mainloop()"
   ]
  },
  {
   "cell_type": "code",
   "execution_count": null,
   "metadata": {},
   "outputs": [],
   "source": [
    "import tkinter as tk\n",
    "    \n",
    "\n",
    "def write_slogan():\n",
    "    print(\"Tkinter is easy to use!\")\n",
    "\n",
    "root = tk.Tk()\n",
    "frame = tk.Frame(root)\n",
    "frame.pack()\n",
    "\n",
    "button = tk.Button(frame, \n",
    "                   text=\"QUIT\", \n",
    "                   fg=\"red\",\n",
    "                   command=quit)\n",
    "button.pack(side=tk.LEFT)\n",
    "slogan = tk.Button(frame,\n",
    "                   text=\"Hello\",\n",
    "                   command=write_slogan)\n",
    "slogan.pack(side=tk.LEFT)\n",
    "\n",
    "root.mainloop()"
   ]
  },
  {
   "cell_type": "code",
   "execution_count": 5,
   "metadata": {},
   "outputs": [],
   "source": [
    "import tkinter as tk\n",
    "\n",
    "counter = 0 \n",
    "def counter_label(label):\n",
    "    counter = 0\n",
    "    def count():\n",
    "        global counter\n",
    "        counter += 1\n",
    "        label.config(text=str(counter))\n",
    "        label.after(1000, count)\n",
    "    count()\n",
    " \n",
    " \n",
    "root = tk.Tk()\n",
    "root.title(\"Counting Seconds\")\n",
    "label = tk.Label(root, fg=\"dark green\")\n",
    "label.pack()\n",
    "counter_label(label)\n",
    "button = tk.Button(root, text='Stop', width=, command=root.destroy)\n",
    "button.pack()\n",
    "root.mainloop()"
   ]
  },
  {
   "cell_type": "code",
   "execution_count": 18,
   "metadata": {},
   "outputs": [],
   "source": [
    "import tkinter as tk\n",
    "from PIL import ImageTk, Image\n",
    "\n",
    "root = tk.Tk()\n",
    "root = Toplevel()  \n",
    "canvas = Canvas(root, width = 300, height = 300)  \n",
    "canvas.pack()  \n",
    "img = ImageTk.PhotoImage(Image.open(\"C:\\\\Users\\\\PC\\\\Desktop\\\\b.png\"))  \n",
    "canvas.create_image(20, 20, anchor=NW, image=img)\n",
    "logo=Image.open('C:\\\\Users\\\\PC\\\\Desktop\\\\a.jpeg')\n",
    "\n",
    "w1 = tk.Label(root, image=img,width=30).pack(side=\"right\")\n",
    "\n",
    "explanation = \"\"\"At present, only GIF and PPM/PGM\n",
    "formats are supported, but an interface \n",
    "exists to allow additional image file\n",
    "formats to be added easily.\"\"\"\n",
    "\n",
    "w2 = tk.Label(root, \n",
    "              justify=tk.LEFT,\n",
    "              padx = 10, \n",
    "              text=explanation).pack(side=\"left\")\n",
    "root.mainloop()"
   ]
  },
  {
   "cell_type": "code",
   "execution_count": 17,
   "metadata": {},
   "outputs": [],
   "source": [
    "from tkinter import *  \n",
    "from PIL import ImageTk,Image  \n",
    "root = Toplevel()  \n",
    "canvas = Canvas(root, width = 300, height = 300)  \n",
    "canvas.pack()  \n",
    "img = ImageTk.PhotoImage(Image.open(\"C:\\\\Users\\\\PC\\\\Desktop\\\\b.png\"))  \n",
    "canvas.create_image(20, 20, anchor=\"nw\", image=img)  \n",
    "root.mainloop()  "
   ]
  },
  {
   "cell_type": "code",
   "execution_count": 21,
   "metadata": {},
   "outputs": [],
   "source": [
    "from tkinter import *\n",
    "root=Tk()\n",
    "label=Label(root,text=\"Name\").pack(side=LEFT)\n",
    "textbox=Text(root,height=1,width=20).pack(side=LEFT,expand=False)\n",
    "button=Button(root,text=\"save\").pack()\n",
    "root.mainloop()"
   ]
  },
  {
   "cell_type": "code",
   "execution_count": 24,
   "metadata": {},
   "outputs": [],
   "source": [
    "from tkinter import *\n",
    "\n",
    "def onclick():\n",
    "    pass\n",
    "\n",
    "root = Tk()\n",
    "text = Text(root)\n",
    "text.insert(INSERT, \"Hello.....\")\n",
    "text.insert(END, \"Bye Bye.....\")\n",
    "text.pack()\n",
    "root.resizable(0,0)\n",
    "text.tag_add(\"here\", \"1.0\", \"1.4\")\n",
    "text.tag_add(\"start\", \"1.8\", \"1.13\")\n",
    "text.tag_config(\"here\", background=\"yellow\", foreground=\"blue\")\n",
    "text.tag_config(\"start\", background=\"black\", foreground=\"green\")\n",
    "root.mainloop()"
   ]
  },
  {
   "cell_type": "code",
   "execution_count": null,
   "metadata": {},
   "outputs": [],
   "source": []
  }
 ],
 "metadata": {
  "kernelspec": {
   "display_name": "Python 3",
   "language": "python",
   "name": "python3"
  },
  "language_info": {
   "codemirror_mode": {
    "name": "ipython",
    "version": 3
   },
   "file_extension": ".py",
   "mimetype": "text/x-python",
   "name": "python",
   "nbconvert_exporter": "python",
   "pygments_lexer": "ipython3",
   "version": "3.7.6"
  }
 },
 "nbformat": 4,
 "nbformat_minor": 2
}
